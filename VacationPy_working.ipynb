{
 "cells": [
  {
   "cell_type": "markdown",
   "metadata": {},
   "source": [
    "# VacationPy\n",
    "----"
   ]
  },
  {
   "cell_type": "code",
   "execution_count": 1,
   "metadata": {},
   "outputs": [],
   "source": [
    "#dependencies and setup\n",
    "import matplotlib.pyplot as plt\n",
    "import pandas as pd\n",
    "import numpy as np\n",
    "import requests\n",
    "import gmaps\n",
    "import os\n",
    "from config import gkey"
   ]
  },
  {
   "cell_type": "markdown",
   "metadata": {},
   "source": [
    "### Store Part I results into DataFrame"
   ]
  },
  {
   "cell_type": "code",
   "execution_count": 2,
   "metadata": {},
   "outputs": [
    {
     "output_type": "execute_result",
     "data": {
      "text/plain": [
       "           City  Latitude  Longitude  Max Temperature  Humidity  Cloudiness  \\\n",
       "0       Rikitea  -23.1203  -134.9692            74.30        75         100   \n",
       "1  Norman Wells   65.2820  -126.8329            78.84        27          40   \n",
       "2        Bethel   41.3712   -73.4140            70.75        58           1   \n",
       "3        Faanui  -16.4833  -151.7500            80.15        69          17   \n",
       "4     Bāndarban   22.1965    92.2262            74.14        96         100   \n",
       "\n",
       "   Wind Speed Country        Date  \n",
       "0       26.55      PF  1623976991  \n",
       "1       11.50      CA  1623977016  \n",
       "2        3.44      US  1623976999  \n",
       "3       17.72      PF  1623977016  \n",
       "4        2.64      BD  1623977016  "
      ],
      "text/html": "<div>\n<style scoped>\n    .dataframe tbody tr th:only-of-type {\n        vertical-align: middle;\n    }\n\n    .dataframe tbody tr th {\n        vertical-align: top;\n    }\n\n    .dataframe thead th {\n        text-align: right;\n    }\n</style>\n<table border=\"1\" class=\"dataframe\">\n  <thead>\n    <tr style=\"text-align: right;\">\n      <th></th>\n      <th>City</th>\n      <th>Latitude</th>\n      <th>Longitude</th>\n      <th>Max Temperature</th>\n      <th>Humidity</th>\n      <th>Cloudiness</th>\n      <th>Wind Speed</th>\n      <th>Country</th>\n      <th>Date</th>\n    </tr>\n  </thead>\n  <tbody>\n    <tr>\n      <th>0</th>\n      <td>Rikitea</td>\n      <td>-23.1203</td>\n      <td>-134.9692</td>\n      <td>74.30</td>\n      <td>75</td>\n      <td>100</td>\n      <td>26.55</td>\n      <td>PF</td>\n      <td>1623976991</td>\n    </tr>\n    <tr>\n      <th>1</th>\n      <td>Norman Wells</td>\n      <td>65.2820</td>\n      <td>-126.8329</td>\n      <td>78.84</td>\n      <td>27</td>\n      <td>40</td>\n      <td>11.50</td>\n      <td>CA</td>\n      <td>1623977016</td>\n    </tr>\n    <tr>\n      <th>2</th>\n      <td>Bethel</td>\n      <td>41.3712</td>\n      <td>-73.4140</td>\n      <td>70.75</td>\n      <td>58</td>\n      <td>1</td>\n      <td>3.44</td>\n      <td>US</td>\n      <td>1623976999</td>\n    </tr>\n    <tr>\n      <th>3</th>\n      <td>Faanui</td>\n      <td>-16.4833</td>\n      <td>-151.7500</td>\n      <td>80.15</td>\n      <td>69</td>\n      <td>17</td>\n      <td>17.72</td>\n      <td>PF</td>\n      <td>1623977016</td>\n    </tr>\n    <tr>\n      <th>4</th>\n      <td>Bāndarban</td>\n      <td>22.1965</td>\n      <td>92.2262</td>\n      <td>74.14</td>\n      <td>96</td>\n      <td>100</td>\n      <td>2.64</td>\n      <td>BD</td>\n      <td>1623977016</td>\n    </tr>\n  </tbody>\n</table>\n</div>"
     },
     "metadata": {},
     "execution_count": 2
    }
   ],
   "source": [
    "#create dataframe of city weather from csv\n",
    "city_weather_df = pd.read_csv(\"output/citiesweather.csv\", index_col = 0)\n",
    "\n",
    "#preview frame\n",
    "city_weather_df.head()"
   ]
  },
  {
   "cell_type": "markdown",
   "metadata": {},
   "source": [
    "### Humidity Heatmap"
   ]
  },
  {
   "cell_type": "code",
   "execution_count": 3,
   "metadata": {},
   "outputs": [
    {
     "output_type": "display_data",
     "data": {
      "text/plain": "Figure(layout=FigureLayout(border='1px solid black', height='600px', margin='0 auto 0 auto', padding='1px', wi…",
      "application/vnd.jupyter.widget-view+json": {
       "version_major": 2,
       "version_minor": 0,
       "model_id": "6f07a460372a446db77da18df9399245"
      }
     },
     "metadata": {}
    }
   ],
   "source": [
    "#configure gmaps\n",
    "gmaps.configure(api_key=gkey)\n",
    "\n",
    "#customize the size of the figure\n",
    "figure_layout = {\n",
    "    'width': '1000px',\n",
    "    'height': '600px',\n",
    "    'border': '1px solid black',\n",
    "    'padding': '1px',\n",
    "    'margin': '0 auto 0 auto'\n",
    "}\n",
    "fig = gmaps.figure(layout=figure_layout)\n",
    "\n",
    "#define locations of interest and level of humidity\n",
    "locations = city_weather_df[[\"Latitude\", \"Longitude\"]]\n",
    "humid = city_weather_df[\"Humidity\"]\n",
    "\n",
    "#build heatlayer\n",
    "humidity_layer = gmaps.heatmap_layer(locations, weights = humid, \n",
    "                                 dissipating = True, max_intensity = 100,\n",
    "                                 point_radius = 15)\n",
    "\n",
    "#add heatlayer layer to map\n",
    "fig.add_layer(humidity_layer)\n",
    "fig"
   ]
  },
  {
   "cell_type": "code",
   "execution_count": null,
   "metadata": {},
   "outputs": [],
   "source": []
  },
  {
   "cell_type": "markdown",
   "metadata": {},
   "source": [
    "### Create new DataFrame fitting weather criteria"
   ]
  },
  {
   "cell_type": "code",
   "execution_count": 4,
   "metadata": {},
   "outputs": [
    {
     "output_type": "execute_result",
     "data": {
      "text/plain": [
       "            City  Latitude  Longitude  Max Temperature  Humidity  Cloudiness  \\\n",
       "10    Hambantota    6.1241    81.1185            77.34       100           0   \n",
       "179      Cayenne    4.9333   -52.3333            77.09        90           0   \n",
       "192     Buraidah   26.3260    43.9750            77.45        20           0   \n",
       "195  Verkhoyansk   67.5447   133.3850            76.95        27           0   \n",
       "350  Zhanakorgan   43.9098    67.2495            78.44        17           0   \n",
       "353      Meyzieu   45.7667     5.0000            75.15        56           0   \n",
       "400       Waddān   29.1614    16.1390            75.81        48           0   \n",
       "\n",
       "     Wind Speed Country        Date  \n",
       "10         5.75      LK  1623977018  \n",
       "179        2.30      GF  1623977266  \n",
       "192        9.46      SA  1623977335  \n",
       "195        5.19      RU  1623977336  \n",
       "350        4.21      KZ  1623977572  \n",
       "353        3.44      FR  1623977573  \n",
       "400        9.40      LY  1623977650  "
      ],
      "text/html": "<div>\n<style scoped>\n    .dataframe tbody tr th:only-of-type {\n        vertical-align: middle;\n    }\n\n    .dataframe tbody tr th {\n        vertical-align: top;\n    }\n\n    .dataframe thead th {\n        text-align: right;\n    }\n</style>\n<table border=\"1\" class=\"dataframe\">\n  <thead>\n    <tr style=\"text-align: right;\">\n      <th></th>\n      <th>City</th>\n      <th>Latitude</th>\n      <th>Longitude</th>\n      <th>Max Temperature</th>\n      <th>Humidity</th>\n      <th>Cloudiness</th>\n      <th>Wind Speed</th>\n      <th>Country</th>\n      <th>Date</th>\n    </tr>\n  </thead>\n  <tbody>\n    <tr>\n      <th>10</th>\n      <td>Hambantota</td>\n      <td>6.1241</td>\n      <td>81.1185</td>\n      <td>77.34</td>\n      <td>100</td>\n      <td>0</td>\n      <td>5.75</td>\n      <td>LK</td>\n      <td>1623977018</td>\n    </tr>\n    <tr>\n      <th>179</th>\n      <td>Cayenne</td>\n      <td>4.9333</td>\n      <td>-52.3333</td>\n      <td>77.09</td>\n      <td>90</td>\n      <td>0</td>\n      <td>2.30</td>\n      <td>GF</td>\n      <td>1623977266</td>\n    </tr>\n    <tr>\n      <th>192</th>\n      <td>Buraidah</td>\n      <td>26.3260</td>\n      <td>43.9750</td>\n      <td>77.45</td>\n      <td>20</td>\n      <td>0</td>\n      <td>9.46</td>\n      <td>SA</td>\n      <td>1623977335</td>\n    </tr>\n    <tr>\n      <th>195</th>\n      <td>Verkhoyansk</td>\n      <td>67.5447</td>\n      <td>133.3850</td>\n      <td>76.95</td>\n      <td>27</td>\n      <td>0</td>\n      <td>5.19</td>\n      <td>RU</td>\n      <td>1623977336</td>\n    </tr>\n    <tr>\n      <th>350</th>\n      <td>Zhanakorgan</td>\n      <td>43.9098</td>\n      <td>67.2495</td>\n      <td>78.44</td>\n      <td>17</td>\n      <td>0</td>\n      <td>4.21</td>\n      <td>KZ</td>\n      <td>1623977572</td>\n    </tr>\n    <tr>\n      <th>353</th>\n      <td>Meyzieu</td>\n      <td>45.7667</td>\n      <td>5.0000</td>\n      <td>75.15</td>\n      <td>56</td>\n      <td>0</td>\n      <td>3.44</td>\n      <td>FR</td>\n      <td>1623977573</td>\n    </tr>\n    <tr>\n      <th>400</th>\n      <td>Waddān</td>\n      <td>29.1614</td>\n      <td>16.1390</td>\n      <td>75.81</td>\n      <td>48</td>\n      <td>0</td>\n      <td>9.40</td>\n      <td>LY</td>\n      <td>1623977650</td>\n    </tr>\n  </tbody>\n</table>\n</div>"
     },
     "metadata": {},
     "execution_count": 4
    }
   ],
   "source": [
    "#create dataframe of cities that fit weather criteria\n",
    "ideal_weather_df = city_weather_df.loc[(city_weather_df['Max Temperature'] > 70) & (city_weather_df['Max Temperature'] < 80) & (city_weather_df['Wind Speed'] < 10) & (city_weather_df['Cloudiness'] == 0),  :]\n",
    "\n",
    "#view frame\n",
    "ideal_weather_df"
   ]
  },
  {
   "cell_type": "markdown",
   "metadata": {},
   "source": [
    "## Hotel Map"
   ]
  },
  {
   "cell_type": "code",
   "execution_count": 5,
   "metadata": {},
   "outputs": [
    {
     "output_type": "stream",
     "name": "stderr",
     "text": [
      "<ipython-input-5-f21582b3a30d>:5: SettingWithCopyWarning: \n",
      "A value is trying to be set on a copy of a slice from a DataFrame.\n",
      "Try using .loc[row_indexer,col_indexer] = value instead\n",
      "\n",
      "See the caveats in the documentation: https://pandas.pydata.org/pandas-docs/stable/user_guide/indexing.html#returning-a-view-versus-a-copy\n",
      "  hotel_df['Hotel Name'] = ''\n",
      "Retrieving Results for Hambantota.\n",
      "C:\\Users\\terre\\anaconda3\\lib\\site-packages\\pandas\\core\\indexing.py:1765: SettingWithCopyWarning: \n",
      "A value is trying to be set on a copy of a slice from a DataFrame.\n",
      "Try using .loc[row_indexer,col_indexer] = value instead\n",
      "\n",
      "See the caveats in the documentation: https://pandas.pydata.org/pandas-docs/stable/user_guide/indexing.html#returning-a-view-versus-a-copy\n",
      "  isetter(loc, value)\n",
      "Missing field/result or no hotel within range.\n",
      "------------\n",
      "Retrieving Results for Cayenne.\n",
      "Closest hotel to Cayenne is Mercure Cayenne Royal Amazonia.\n",
      "------------\n",
      "Retrieving Results for Buraidah.\n",
      "Closest hotel to Buraidah is Mövenpick Hotel Qassim.\n",
      "------------\n",
      "Retrieving Results for Verkhoyansk.\n",
      "Missing field/result or no hotel within range.\n",
      "------------\n",
      "Retrieving Results for Zhanakorgan.\n",
      "Closest hotel to Zhanakorgan is \"Нұрлан\" қонақ үйі.\n",
      "------------\n",
      "Retrieving Results for Meyzieu.\n",
      "Closest hotel to Meyzieu is Gatsby Hotel & Restaurant By Happyculturetm.\n",
      "------------\n",
      "Retrieving Results for Waddān.\n",
      "Missing field/result or no hotel within range.\n",
      "------------\n"
     ]
    }
   ],
   "source": [
    "#store into new dataframe named hotel_df\n",
    "hotel_df = ideal_weather_df\n",
    "\n",
    "#create hotel name column within dataframe\n",
    "hotel_df['Hotel Name'] = ''\n",
    "\n",
    "#set parameters to search for hotels with 5000 meters.\n",
    "base_url = \"https://maps.googleapis.com/maps/api/place/nearbysearch/json\"\n",
    "params = { \n",
    "    \"radius\": 5000,\n",
    "    \"type\": \"lodging\",\n",
    "    \"keyword\": \"hotel\",\n",
    "    \"key\": gkey,\n",
    "}\n",
    "#iterate through pandas dataframe\n",
    "for index, row in hotel_df.iterrows():\n",
    "\n",
    "#define city and location\n",
    "    lat = row['Latitude']\n",
    "    lng = row['Longitude']\n",
    "    city = row['City']\n",
    "    \n",
    "#set location variable within call specifications\n",
    "    target_coordinates = f'{lat}, {lng}'\n",
    "\n",
    "#add location parameter\n",
    "    params['location'] = target_coordinates\n",
    "\n",
    "    print(f\"Retrieving Results for {city}.\")\n",
    "\n",
    "#assemble url and make API request\n",
    "    response = requests.get(base_url, params=params).json()\n",
    "    \n",
    "#extract results\n",
    "    results = response['results']\n",
    "    \n",
    "#add found hotel to dataframe\n",
    "    try:\n",
    "        print(f\"Closest hotel to {city} is {results[0]['name']}.\")\n",
    "        \n",
    "        hotel_df.loc[index, 'Hotel Name'] = results[0]['name']\n",
    "        \n",
    "#add 'none' to dataframe, if no hotel found or error\n",
    "    except (KeyError, IndexError):\n",
    "        hotel_df.loc[index, 'Hotel Name'] = \"None\"\n",
    "\n",
    "        print(\"Missing field/result or no hotel within range.\")\n",
    "        \n",
    "    print(\"------------\")"
   ]
  },
  {
   "cell_type": "code",
   "execution_count": 6,
   "metadata": {},
   "outputs": [
    {
     "output_type": "execute_result",
     "data": {
      "text/plain": [
       "            City  Latitude  Longitude  Max Temperature  Humidity  Cloudiness  \\\n",
       "179      Cayenne    4.9333   -52.3333            77.09        90           0   \n",
       "192     Buraidah   26.3260    43.9750            77.45        20           0   \n",
       "350  Zhanakorgan   43.9098    67.2495            78.44        17           0   \n",
       "353      Meyzieu   45.7667     5.0000            75.15        56           0   \n",
       "\n",
       "     Wind Speed Country        Date  \\\n",
       "179        2.30      GF  1623977266   \n",
       "192        9.46      SA  1623977335   \n",
       "350        4.21      KZ  1623977572   \n",
       "353        3.44      FR  1623977573   \n",
       "\n",
       "                                      Hotel Name  \n",
       "179               Mercure Cayenne Royal Amazonia  \n",
       "192                       Mövenpick Hotel Qassim  \n",
       "350                           \"Нұрлан\" қонақ үйі  \n",
       "353  Gatsby Hotel & Restaurant By Happyculturetm  "
      ],
      "text/html": "<div>\n<style scoped>\n    .dataframe tbody tr th:only-of-type {\n        vertical-align: middle;\n    }\n\n    .dataframe tbody tr th {\n        vertical-align: top;\n    }\n\n    .dataframe thead th {\n        text-align: right;\n    }\n</style>\n<table border=\"1\" class=\"dataframe\">\n  <thead>\n    <tr style=\"text-align: right;\">\n      <th></th>\n      <th>City</th>\n      <th>Latitude</th>\n      <th>Longitude</th>\n      <th>Max Temperature</th>\n      <th>Humidity</th>\n      <th>Cloudiness</th>\n      <th>Wind Speed</th>\n      <th>Country</th>\n      <th>Date</th>\n      <th>Hotel Name</th>\n    </tr>\n  </thead>\n  <tbody>\n    <tr>\n      <th>179</th>\n      <td>Cayenne</td>\n      <td>4.9333</td>\n      <td>-52.3333</td>\n      <td>77.09</td>\n      <td>90</td>\n      <td>0</td>\n      <td>2.30</td>\n      <td>GF</td>\n      <td>1623977266</td>\n      <td>Mercure Cayenne Royal Amazonia</td>\n    </tr>\n    <tr>\n      <th>192</th>\n      <td>Buraidah</td>\n      <td>26.3260</td>\n      <td>43.9750</td>\n      <td>77.45</td>\n      <td>20</td>\n      <td>0</td>\n      <td>9.46</td>\n      <td>SA</td>\n      <td>1623977335</td>\n      <td>Mövenpick Hotel Qassim</td>\n    </tr>\n    <tr>\n      <th>350</th>\n      <td>Zhanakorgan</td>\n      <td>43.9098</td>\n      <td>67.2495</td>\n      <td>78.44</td>\n      <td>17</td>\n      <td>0</td>\n      <td>4.21</td>\n      <td>KZ</td>\n      <td>1623977572</td>\n      <td>\"Нұрлан\" қонақ үйі</td>\n    </tr>\n    <tr>\n      <th>353</th>\n      <td>Meyzieu</td>\n      <td>45.7667</td>\n      <td>5.0000</td>\n      <td>75.15</td>\n      <td>56</td>\n      <td>0</td>\n      <td>3.44</td>\n      <td>FR</td>\n      <td>1623977573</td>\n      <td>Gatsby Hotel &amp; Restaurant By Happyculturetm</td>\n    </tr>\n  </tbody>\n</table>\n</div>"
     },
     "metadata": {},
     "execution_count": 6
    }
   ],
   "source": [
    "#create new dataframe of only cities with hotels withing 5000m of coordinates\n",
    "hotel_clean_df = hotel_df.loc[hotel_df['Hotel Name'] != 'None', :]\n",
    "hotel_clean_df"
   ]
  },
  {
   "cell_type": "code",
   "execution_count": 7,
   "metadata": {},
   "outputs": [],
   "source": [
    "# NOTE: Do not change any of the code in this cell\n",
    "\n",
    "# Using the template add the hotel marks to the heatmap\n",
    "info_box_template = \"\"\"\n",
    "<dl>\n",
    "<dt>Name</dt><dd>{Hotel Name}</dd>\n",
    "<dt>City</dt><dd>{City}</dd>\n",
    "<dt>Country</dt><dd>{Country}</dd>\n",
    "</dl>\n",
    "\"\"\"\n",
    "# Store the DataFrame Row\n",
    "# NOTE: be sure to update with your DataFrame name\n",
    "hotel_clean_info = [info_box_template.format(**row) for index, row in hotel_clean_df.iterrows()]\n",
    "locations = hotel_clean_df[[\"Latitude\", \"Longitude\"]]"
   ]
  },
  {
   "cell_type": "code",
   "execution_count": 8,
   "metadata": {},
   "outputs": [
    {
     "output_type": "display_data",
     "data": {
      "text/plain": "Figure(layout=FigureLayout(border='1px solid black', height='600px', margin='0 auto 0 auto', padding='1px', wi…",
      "application/vnd.jupyter.widget-view+json": {
       "version_major": 2,
       "version_minor": 0,
       "model_id": "6f07a460372a446db77da18df9399245"
      }
     },
     "metadata": {}
    }
   ],
   "source": [
    "#build marker layer\n",
    "markers = gmaps.marker_layer(locations, info_box_content= hotel_clean_info)\n",
    "\n",
    "#add layer to figure with heatmap\n",
    "fig.add_layer(markers)\n",
    "\n",
    "#display\n",
    "fig"
   ]
  },
  {
   "cell_type": "code",
   "execution_count": null,
   "metadata": {},
   "outputs": [],
   "source": []
  }
 ],
 "metadata": {
  "kernelspec": {
   "name": "python3",
   "display_name": "Python 3.8.5 64-bit ('base': conda)"
  },
  "language_info": {
   "codemirror_mode": {
    "name": "ipython",
    "version": 3
   },
   "file_extension": ".py",
   "mimetype": "text/x-python",
   "name": "python",
   "nbconvert_exporter": "python",
   "pygments_lexer": "ipython3",
   "version": "3.8.5"
  },
  "latex_envs": {
   "LaTeX_envs_menu_present": true,
   "autoclose": false,
   "autocomplete": true,
   "bibliofile": "biblio.bib",
   "cite_by": "apalike",
   "current_citInitial": 1,
   "eqLabelWithNumbers": true,
   "eqNumInitial": 1,
   "hotkeys": {
    "equation": "Ctrl-E",
    "itemize": "Ctrl-I"
   },
   "labels_anchors": false,
   "latex_user_defs": false,
   "report_style_numbering": false,
   "user_envs_cfg": false
  },
  "interpreter": {
   "hash": "f9fee9cbe5d52c1f7243541fa15d15ec67d11b7683314c61b325791cddb85a8d"
  }
 },
 "nbformat": 4,
 "nbformat_minor": 4
}