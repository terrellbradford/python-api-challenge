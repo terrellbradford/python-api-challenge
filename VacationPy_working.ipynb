{
 "cells": [
  {
   "cell_type": "markdown",
   "metadata": {},
   "source": [
    "# VacationPy\n",
    "----"
   ]
  },
  {
   "cell_type": "code",
   "execution_count": 2,
   "metadata": {},
   "outputs": [],
   "source": [
    "#dependencies and setup\n",
    "import matplotlib.pyplot as plt\n",
    "import pandas as pd\n",
    "import numpy as np\n",
    "import requests\n",
    "import gmaps\n",
    "import os\n",
    "from config import gkey"
   ]
  },
  {
   "cell_type": "markdown",
   "metadata": {},
   "source": [
    "### Store Part I results into DataFrame"
   ]
  },
  {
   "cell_type": "code",
   "execution_count": 3,
   "metadata": {},
   "outputs": [
    {
     "output_type": "execute_result",
     "data": {
      "text/plain": [
       "          City  Latitude  Longitude  Max Temperature  Humidity  Cloudiness  \\\n",
       "0  New Norfolk  -42.7826   147.0587            48.76        91          86   \n",
       "1      Salalah   17.0151    54.0924            78.89        94          90   \n",
       "2       Barrow   71.2906  -156.7887            41.02        75           1   \n",
       "3       Atuona   -9.8000  -139.0333            79.21        76           2   \n",
       "4    Saskylakh   71.9167   114.0833            78.44        41          12   \n",
       "\n",
       "   Wind Speed Country        Date  \n",
       "0        2.24      AU  1624321457  \n",
       "1        5.75      OM  1624321457  \n",
       "2        9.22      US  1624321202  \n",
       "3       12.28      PF  1624321384  \n",
       "4        1.50      RU  1624321458  "
      ],
      "text/html": "<div>\n<style scoped>\n    .dataframe tbody tr th:only-of-type {\n        vertical-align: middle;\n    }\n\n    .dataframe tbody tr th {\n        vertical-align: top;\n    }\n\n    .dataframe thead th {\n        text-align: right;\n    }\n</style>\n<table border=\"1\" class=\"dataframe\">\n  <thead>\n    <tr style=\"text-align: right;\">\n      <th></th>\n      <th>City</th>\n      <th>Latitude</th>\n      <th>Longitude</th>\n      <th>Max Temperature</th>\n      <th>Humidity</th>\n      <th>Cloudiness</th>\n      <th>Wind Speed</th>\n      <th>Country</th>\n      <th>Date</th>\n    </tr>\n  </thead>\n  <tbody>\n    <tr>\n      <th>0</th>\n      <td>New Norfolk</td>\n      <td>-42.7826</td>\n      <td>147.0587</td>\n      <td>48.76</td>\n      <td>91</td>\n      <td>86</td>\n      <td>2.24</td>\n      <td>AU</td>\n      <td>1624321457</td>\n    </tr>\n    <tr>\n      <th>1</th>\n      <td>Salalah</td>\n      <td>17.0151</td>\n      <td>54.0924</td>\n      <td>78.89</td>\n      <td>94</td>\n      <td>90</td>\n      <td>5.75</td>\n      <td>OM</td>\n      <td>1624321457</td>\n    </tr>\n    <tr>\n      <th>2</th>\n      <td>Barrow</td>\n      <td>71.2906</td>\n      <td>-156.7887</td>\n      <td>41.02</td>\n      <td>75</td>\n      <td>1</td>\n      <td>9.22</td>\n      <td>US</td>\n      <td>1624321202</td>\n    </tr>\n    <tr>\n      <th>3</th>\n      <td>Atuona</td>\n      <td>-9.8000</td>\n      <td>-139.0333</td>\n      <td>79.21</td>\n      <td>76</td>\n      <td>2</td>\n      <td>12.28</td>\n      <td>PF</td>\n      <td>1624321384</td>\n    </tr>\n    <tr>\n      <th>4</th>\n      <td>Saskylakh</td>\n      <td>71.9167</td>\n      <td>114.0833</td>\n      <td>78.44</td>\n      <td>41</td>\n      <td>12</td>\n      <td>1.50</td>\n      <td>RU</td>\n      <td>1624321458</td>\n    </tr>\n  </tbody>\n</table>\n</div>"
     },
     "metadata": {},
     "execution_count": 3
    }
   ],
   "source": [
    "#create dataframe of city weather from csv\n",
    "city_weather_df = pd.read_csv(\"output/citiesweather.csv\", index_col = 0)\n",
    "\n",
    "#preview frame\n",
    "city_weather_df.head()"
   ]
  },
  {
   "cell_type": "markdown",
   "metadata": {},
   "source": [
    "### Humidity Heatmap"
   ]
  },
  {
   "cell_type": "code",
   "execution_count": 4,
   "metadata": {},
   "outputs": [
    {
     "output_type": "display_data",
     "data": {
      "text/plain": "Figure(layout=FigureLayout(border='1px solid black', height='600px', margin='0 auto 0 auto', padding='1px', wi…",
      "application/vnd.jupyter.widget-view+json": {
       "version_major": 2,
       "version_minor": 0,
       "model_id": "d294e1cccad24f21a25b67d3a30740dd"
      }
     },
     "metadata": {}
    }
   ],
   "source": [
    "#configure gmaps\n",
    "gmaps.configure(api_key=gkey)\n",
    "\n",
    "#customize the size of the figure\n",
    "figure_layout = {\n",
    "    'width': '1000px',\n",
    "    'height': '600px',\n",
    "    'border': '1px solid black',\n",
    "    'padding': '1px',\n",
    "    'margin': '0 auto 0 auto'\n",
    "}\n",
    "fig = gmaps.figure(layout=figure_layout)\n",
    "\n",
    "#define locations of interest and level of humidity\n",
    "locations = city_weather_df[[\"Latitude\", \"Longitude\"]]\n",
    "humid = city_weather_df[\"Humidity\"]\n",
    "\n",
    "#build heatlayer\n",
    "humidity_layer = gmaps.heatmap_layer(locations, weights = humid, \n",
    "                                 dissipating = True, max_intensity = 100,\n",
    "                                 point_radius = 15)\n",
    "\n",
    "#add heatlayer layer to map\n",
    "fig.add_layer(humidity_layer)\n",
    "fig"
   ]
  },
  {
   "cell_type": "code",
   "execution_count": null,
   "metadata": {},
   "outputs": [],
   "source": []
  },
  {
   "cell_type": "markdown",
   "metadata": {},
   "source": [
    "### Create new DataFrame fitting weather criteria"
   ]
  },
  {
   "cell_type": "code",
   "execution_count": 5,
   "metadata": {},
   "outputs": [
    {
     "output_type": "execute_result",
     "data": {
      "text/plain": [
       "             City  Latitude  Longitude  Max Temperature  Humidity  Cloudiness  \\\n",
       "61     Alexandria   31.2156    29.9553            75.25        74           0   \n",
       "216      Belgrade   44.8040    20.4651            76.66        69           0   \n",
       "270       Togitsu   32.8333   129.8500            75.16        78           0   \n",
       "327         Seoul   37.5683   126.9778            76.57        62           0   \n",
       "377   Al Bardīyah   31.7561    25.0865            73.60        80           0   \n",
       "417     Kununurra  -15.7667   128.7333            71.58        40           0   \n",
       "446   Porteirinha  -15.7433   -43.0283            70.05        42           0   \n",
       "504  Portoferraio   42.8115    10.3146            73.53        86           0   \n",
       "508    Hambantota    6.1241    81.1185            77.00       100           0   \n",
       "530        Tūkrah   32.5341    20.5791            76.62        53           0   \n",
       "546         Tabas   33.5959    56.9244            75.43        11           0   \n",
       "\n",
       "     Wind Speed Country        Date  \n",
       "61         3.76      EG  1624321263  \n",
       "216        5.75      RS  1624321597  \n",
       "270        4.61      JP  1624321862  \n",
       "327        3.44      KR  1624321669  \n",
       "377        7.47      LY  1624322090  \n",
       "417        3.44      AU  1624321989  \n",
       "446        6.42      BR  1624322178  \n",
       "504        9.57      IT  1624322261  \n",
       "508        4.61      LK  1624322262  \n",
       "530        0.51      LY  1624322223  \n",
       "546        3.15      IR  1624322338  "
      ],
      "text/html": "<div>\n<style scoped>\n    .dataframe tbody tr th:only-of-type {\n        vertical-align: middle;\n    }\n\n    .dataframe tbody tr th {\n        vertical-align: top;\n    }\n\n    .dataframe thead th {\n        text-align: right;\n    }\n</style>\n<table border=\"1\" class=\"dataframe\">\n  <thead>\n    <tr style=\"text-align: right;\">\n      <th></th>\n      <th>City</th>\n      <th>Latitude</th>\n      <th>Longitude</th>\n      <th>Max Temperature</th>\n      <th>Humidity</th>\n      <th>Cloudiness</th>\n      <th>Wind Speed</th>\n      <th>Country</th>\n      <th>Date</th>\n    </tr>\n  </thead>\n  <tbody>\n    <tr>\n      <th>61</th>\n      <td>Alexandria</td>\n      <td>31.2156</td>\n      <td>29.9553</td>\n      <td>75.25</td>\n      <td>74</td>\n      <td>0</td>\n      <td>3.76</td>\n      <td>EG</td>\n      <td>1624321263</td>\n    </tr>\n    <tr>\n      <th>216</th>\n      <td>Belgrade</td>\n      <td>44.8040</td>\n      <td>20.4651</td>\n      <td>76.66</td>\n      <td>69</td>\n      <td>0</td>\n      <td>5.75</td>\n      <td>RS</td>\n      <td>1624321597</td>\n    </tr>\n    <tr>\n      <th>270</th>\n      <td>Togitsu</td>\n      <td>32.8333</td>\n      <td>129.8500</td>\n      <td>75.16</td>\n      <td>78</td>\n      <td>0</td>\n      <td>4.61</td>\n      <td>JP</td>\n      <td>1624321862</td>\n    </tr>\n    <tr>\n      <th>327</th>\n      <td>Seoul</td>\n      <td>37.5683</td>\n      <td>126.9778</td>\n      <td>76.57</td>\n      <td>62</td>\n      <td>0</td>\n      <td>3.44</td>\n      <td>KR</td>\n      <td>1624321669</td>\n    </tr>\n    <tr>\n      <th>377</th>\n      <td>Al Bardīyah</td>\n      <td>31.7561</td>\n      <td>25.0865</td>\n      <td>73.60</td>\n      <td>80</td>\n      <td>0</td>\n      <td>7.47</td>\n      <td>LY</td>\n      <td>1624322090</td>\n    </tr>\n    <tr>\n      <th>417</th>\n      <td>Kununurra</td>\n      <td>-15.7667</td>\n      <td>128.7333</td>\n      <td>71.58</td>\n      <td>40</td>\n      <td>0</td>\n      <td>3.44</td>\n      <td>AU</td>\n      <td>1624321989</td>\n    </tr>\n    <tr>\n      <th>446</th>\n      <td>Porteirinha</td>\n      <td>-15.7433</td>\n      <td>-43.0283</td>\n      <td>70.05</td>\n      <td>42</td>\n      <td>0</td>\n      <td>6.42</td>\n      <td>BR</td>\n      <td>1624322178</td>\n    </tr>\n    <tr>\n      <th>504</th>\n      <td>Portoferraio</td>\n      <td>42.8115</td>\n      <td>10.3146</td>\n      <td>73.53</td>\n      <td>86</td>\n      <td>0</td>\n      <td>9.57</td>\n      <td>IT</td>\n      <td>1624322261</td>\n    </tr>\n    <tr>\n      <th>508</th>\n      <td>Hambantota</td>\n      <td>6.1241</td>\n      <td>81.1185</td>\n      <td>77.00</td>\n      <td>100</td>\n      <td>0</td>\n      <td>4.61</td>\n      <td>LK</td>\n      <td>1624322262</td>\n    </tr>\n    <tr>\n      <th>530</th>\n      <td>Tūkrah</td>\n      <td>32.5341</td>\n      <td>20.5791</td>\n      <td>76.62</td>\n      <td>53</td>\n      <td>0</td>\n      <td>0.51</td>\n      <td>LY</td>\n      <td>1624322223</td>\n    </tr>\n    <tr>\n      <th>546</th>\n      <td>Tabas</td>\n      <td>33.5959</td>\n      <td>56.9244</td>\n      <td>75.43</td>\n      <td>11</td>\n      <td>0</td>\n      <td>3.15</td>\n      <td>IR</td>\n      <td>1624322338</td>\n    </tr>\n  </tbody>\n</table>\n</div>"
     },
     "metadata": {},
     "execution_count": 5
    }
   ],
   "source": [
    "#create dataframe of cities that fit weather criteria\n",
    "ideal_weather_df = city_weather_df.loc[(city_weather_df['Max Temperature'] > 70) & (city_weather_df['Max Temperature'] < 80) & (city_weather_df['Wind Speed'] < 10) & (city_weather_df['Cloudiness'] == 0),  :]\n",
    "\n",
    "#view frame\n",
    "ideal_weather_df"
   ]
  },
  {
   "cell_type": "markdown",
   "metadata": {},
   "source": [
    "## Hotel Map"
   ]
  },
  {
   "cell_type": "code",
   "execution_count": 6,
   "metadata": {},
   "outputs": [
    {
     "output_type": "stream",
     "name": "stderr",
     "text": [
      "C:\\Users\\terre\\anaconda3\\envs\\PythonData\\lib\\site-packages\\ipykernel_launcher.py:5: SettingWithCopyWarning: \n",
      "A value is trying to be set on a copy of a slice from a DataFrame.\n",
      "Try using .loc[row_indexer,col_indexer] = value instead\n",
      "\n",
      "See the caveats in the documentation: https://pandas.pydata.org/pandas-docs/stable/user_guide/indexing.html#returning-a-view-versus-a-copy\n",
      "  \"\"\"\n",
      "Retrieving Results for Alexandria.\n",
      "Closest hotel to Alexandria is Four Seasons Hotel Alexandria at San Stefano, Egypt.\n",
      "------------\n",
      "Retrieving Results for Belgrade.\n",
      "C:\\Users\\terre\\anaconda3\\envs\\PythonData\\lib\\site-packages\\pandas\\core\\indexing.py:966: SettingWithCopyWarning: \n",
      "A value is trying to be set on a copy of a slice from a DataFrame.\n",
      "Try using .loc[row_indexer,col_indexer] = value instead\n",
      "\n",
      "See the caveats in the documentation: https://pandas.pydata.org/pandas-docs/stable/user_guide/indexing.html#returning-a-view-versus-a-copy\n",
      "  self.obj[item] = s\n",
      "Closest hotel to Belgrade is Falkensteiner Hotel Belgrade.\n",
      "------------\n",
      "Retrieving Results for Togitsu.\n",
      "Closest hotel to Togitsu is Yasuda Ocean Hotel Togitsu.\n",
      "------------\n",
      "Retrieving Results for Seoul.\n",
      "Closest hotel to Seoul is Grand Hyatt Seoul.\n",
      "------------\n",
      "Retrieving Results for Al Bardīyah.\n",
      "Closest hotel to Al Bardīyah is Hotel Burdy.\n",
      "------------\n",
      "Retrieving Results for Kununurra.\n",
      "Closest hotel to Kununurra is The Kimberley Grande Resort.\n",
      "------------\n",
      "Retrieving Results for Porteirinha.\n",
      "Closest hotel to Porteirinha is Portal Palace Hotel.\n",
      "------------\n",
      "Retrieving Results for Portoferraio.\n",
      "Closest hotel to Portoferraio is Hotel Hermitage.\n",
      "------------\n",
      "Retrieving Results for Hambantota.\n",
      "Missing field/result or no hotel within range.\n",
      "------------\n",
      "Retrieving Results for Tūkrah.\n",
      "Closest hotel to Tūkrah is مصيف مرحبا للعائلات.\n",
      "------------\n",
      "Retrieving Results for Tabas.\n",
      "Closest hotel to Tabas is هتل.\n",
      "------------\n"
     ]
    }
   ],
   "source": [
    "#store into new dataframe named hotel_df\n",
    "hotel_df = ideal_weather_df\n",
    "\n",
    "#create hotel name column within dataframe\n",
    "hotel_df['Hotel Name'] = ''\n",
    "\n",
    "#set parameters to search for hotels with 5000 meters.\n",
    "base_url = \"https://maps.googleapis.com/maps/api/place/nearbysearch/json\"\n",
    "params = { \n",
    "    \"radius\": 5000,\n",
    "    \"type\": \"lodging\",\n",
    "    \"keyword\": \"hotel\",\n",
    "    \"key\": gkey,\n",
    "}\n",
    "#iterate through pandas dataframe\n",
    "for index, row in hotel_df.iterrows():\n",
    "\n",
    "#define city and location\n",
    "    lat = row['Latitude']\n",
    "    lng = row['Longitude']\n",
    "    city = row['City']\n",
    "    \n",
    "#set location variable within call specifications\n",
    "    target_coordinates = f'{lat}, {lng}'\n",
    "\n",
    "#add location parameter\n",
    "    params['location'] = target_coordinates\n",
    "\n",
    "    print(f\"Retrieving Results for {city}.\")\n",
    "\n",
    "#assemble url and make API request\n",
    "    response = requests.get(base_url, params=params).json()\n",
    "    \n",
    "#extract results\n",
    "    results = response['results']\n",
    "    \n",
    "#add found hotel to dataframe\n",
    "    try:\n",
    "        print(f\"Closest hotel to {city} is {results[0]['name']}.\")\n",
    "        \n",
    "        hotel_df.loc[index, 'Hotel Name'] = results[0]['name']\n",
    "        \n",
    "#add 'none' to dataframe, if no hotel found or error\n",
    "    except (KeyError, IndexError):\n",
    "        hotel_df.loc[index, 'Hotel Name'] = \"None\"\n",
    "\n",
    "        print(\"Missing field/result or no hotel within range.\")\n",
    "        \n",
    "    print(\"------------\")"
   ]
  },
  {
   "cell_type": "code",
   "execution_count": 7,
   "metadata": {},
   "outputs": [
    {
     "output_type": "execute_result",
     "data": {
      "text/plain": [
       "             City  Latitude  Longitude  Max Temperature  Humidity  Cloudiness  \\\n",
       "61     Alexandria   31.2156    29.9553            75.25        74           0   \n",
       "216      Belgrade   44.8040    20.4651            76.66        69           0   \n",
       "270       Togitsu   32.8333   129.8500            75.16        78           0   \n",
       "327         Seoul   37.5683   126.9778            76.57        62           0   \n",
       "377   Al Bardīyah   31.7561    25.0865            73.60        80           0   \n",
       "417     Kununurra  -15.7667   128.7333            71.58        40           0   \n",
       "446   Porteirinha  -15.7433   -43.0283            70.05        42           0   \n",
       "504  Portoferraio   42.8115    10.3146            73.53        86           0   \n",
       "530        Tūkrah   32.5341    20.5791            76.62        53           0   \n",
       "546         Tabas   33.5959    56.9244            75.43        11           0   \n",
       "\n",
       "     Wind Speed Country        Date  \\\n",
       "61         3.76      EG  1624321263   \n",
       "216        5.75      RS  1624321597   \n",
       "270        4.61      JP  1624321862   \n",
       "327        3.44      KR  1624321669   \n",
       "377        7.47      LY  1624322090   \n",
       "417        3.44      AU  1624321989   \n",
       "446        6.42      BR  1624322178   \n",
       "504        9.57      IT  1624322261   \n",
       "530        0.51      LY  1624322223   \n",
       "546        3.15      IR  1624322338   \n",
       "\n",
       "                                            Hotel Name  \n",
       "61   Four Seasons Hotel Alexandria at San Stefano, ...  \n",
       "216                       Falkensteiner Hotel Belgrade  \n",
       "270                         Yasuda Ocean Hotel Togitsu  \n",
       "327                                  Grand Hyatt Seoul  \n",
       "377                                        Hotel Burdy  \n",
       "417                        The Kimberley Grande Resort  \n",
       "446                                Portal Palace Hotel  \n",
       "504                                    Hotel Hermitage  \n",
       "530                                مصيف مرحبا للعائلات  \n",
       "546                                                هتل  "
      ],
      "text/html": "<div>\n<style scoped>\n    .dataframe tbody tr th:only-of-type {\n        vertical-align: middle;\n    }\n\n    .dataframe tbody tr th {\n        vertical-align: top;\n    }\n\n    .dataframe thead th {\n        text-align: right;\n    }\n</style>\n<table border=\"1\" class=\"dataframe\">\n  <thead>\n    <tr style=\"text-align: right;\">\n      <th></th>\n      <th>City</th>\n      <th>Latitude</th>\n      <th>Longitude</th>\n      <th>Max Temperature</th>\n      <th>Humidity</th>\n      <th>Cloudiness</th>\n      <th>Wind Speed</th>\n      <th>Country</th>\n      <th>Date</th>\n      <th>Hotel Name</th>\n    </tr>\n  </thead>\n  <tbody>\n    <tr>\n      <th>61</th>\n      <td>Alexandria</td>\n      <td>31.2156</td>\n      <td>29.9553</td>\n      <td>75.25</td>\n      <td>74</td>\n      <td>0</td>\n      <td>3.76</td>\n      <td>EG</td>\n      <td>1624321263</td>\n      <td>Four Seasons Hotel Alexandria at San Stefano, ...</td>\n    </tr>\n    <tr>\n      <th>216</th>\n      <td>Belgrade</td>\n      <td>44.8040</td>\n      <td>20.4651</td>\n      <td>76.66</td>\n      <td>69</td>\n      <td>0</td>\n      <td>5.75</td>\n      <td>RS</td>\n      <td>1624321597</td>\n      <td>Falkensteiner Hotel Belgrade</td>\n    </tr>\n    <tr>\n      <th>270</th>\n      <td>Togitsu</td>\n      <td>32.8333</td>\n      <td>129.8500</td>\n      <td>75.16</td>\n      <td>78</td>\n      <td>0</td>\n      <td>4.61</td>\n      <td>JP</td>\n      <td>1624321862</td>\n      <td>Yasuda Ocean Hotel Togitsu</td>\n    </tr>\n    <tr>\n      <th>327</th>\n      <td>Seoul</td>\n      <td>37.5683</td>\n      <td>126.9778</td>\n      <td>76.57</td>\n      <td>62</td>\n      <td>0</td>\n      <td>3.44</td>\n      <td>KR</td>\n      <td>1624321669</td>\n      <td>Grand Hyatt Seoul</td>\n    </tr>\n    <tr>\n      <th>377</th>\n      <td>Al Bardīyah</td>\n      <td>31.7561</td>\n      <td>25.0865</td>\n      <td>73.60</td>\n      <td>80</td>\n      <td>0</td>\n      <td>7.47</td>\n      <td>LY</td>\n      <td>1624322090</td>\n      <td>Hotel Burdy</td>\n    </tr>\n    <tr>\n      <th>417</th>\n      <td>Kununurra</td>\n      <td>-15.7667</td>\n      <td>128.7333</td>\n      <td>71.58</td>\n      <td>40</td>\n      <td>0</td>\n      <td>3.44</td>\n      <td>AU</td>\n      <td>1624321989</td>\n      <td>The Kimberley Grande Resort</td>\n    </tr>\n    <tr>\n      <th>446</th>\n      <td>Porteirinha</td>\n      <td>-15.7433</td>\n      <td>-43.0283</td>\n      <td>70.05</td>\n      <td>42</td>\n      <td>0</td>\n      <td>6.42</td>\n      <td>BR</td>\n      <td>1624322178</td>\n      <td>Portal Palace Hotel</td>\n    </tr>\n    <tr>\n      <th>504</th>\n      <td>Portoferraio</td>\n      <td>42.8115</td>\n      <td>10.3146</td>\n      <td>73.53</td>\n      <td>86</td>\n      <td>0</td>\n      <td>9.57</td>\n      <td>IT</td>\n      <td>1624322261</td>\n      <td>Hotel Hermitage</td>\n    </tr>\n    <tr>\n      <th>530</th>\n      <td>Tūkrah</td>\n      <td>32.5341</td>\n      <td>20.5791</td>\n      <td>76.62</td>\n      <td>53</td>\n      <td>0</td>\n      <td>0.51</td>\n      <td>LY</td>\n      <td>1624322223</td>\n      <td>مصيف مرحبا للعائلات</td>\n    </tr>\n    <tr>\n      <th>546</th>\n      <td>Tabas</td>\n      <td>33.5959</td>\n      <td>56.9244</td>\n      <td>75.43</td>\n      <td>11</td>\n      <td>0</td>\n      <td>3.15</td>\n      <td>IR</td>\n      <td>1624322338</td>\n      <td>هتل</td>\n    </tr>\n  </tbody>\n</table>\n</div>"
     },
     "metadata": {},
     "execution_count": 7
    }
   ],
   "source": [
    "#create new dataframe of only cities with hotels withing 5000m of coordinates\n",
    "hotel_clean_df = hotel_df.loc[hotel_df['Hotel Name'] != 'None', :]\n",
    "hotel_clean_df"
   ]
  },
  {
   "cell_type": "code",
   "execution_count": 8,
   "metadata": {},
   "outputs": [],
   "source": [
    "# NOTE: Do not change any of the code in this cell\n",
    "\n",
    "# Using the template add the hotel marks to the heatmap\n",
    "info_box_template = \"\"\"\n",
    "<dl>\n",
    "<dt>Name</dt><dd>{Hotel Name}</dd>\n",
    "<dt>City</dt><dd>{City}</dd>\n",
    "<dt>Country</dt><dd>{Country}</dd>\n",
    "</dl>\n",
    "\"\"\"\n",
    "# Store the DataFrame Row\n",
    "# NOTE: be sure to update with your DataFrame name\n",
    "hotel_clean_info = [info_box_template.format(**row) for index, row in hotel_clean_df.iterrows()]\n",
    "locations = hotel_clean_df[[\"Latitude\", \"Longitude\"]]"
   ]
  },
  {
   "cell_type": "code",
   "execution_count": 9,
   "metadata": {},
   "outputs": [
    {
     "output_type": "display_data",
     "data": {
      "text/plain": "Figure(layout=FigureLayout(border='1px solid black', height='600px', margin='0 auto 0 auto', padding='1px', wi…",
      "application/vnd.jupyter.widget-view+json": {
       "version_major": 2,
       "version_minor": 0,
       "model_id": "d294e1cccad24f21a25b67d3a30740dd"
      }
     },
     "metadata": {}
    }
   ],
   "source": [
    "#build marker layer\n",
    "markers = gmaps.marker_layer(locations, info_box_content= hotel_clean_info)\n",
    "\n",
    "#add layer to figure with heatmap\n",
    "fig.add_layer(markers)\n",
    "\n",
    "#display\n",
    "fig"
   ]
  },
  {
   "cell_type": "code",
   "execution_count": null,
   "metadata": {},
   "outputs": [],
   "source": []
  }
 ],
 "metadata": {
  "kernelspec": {
   "name": "python3",
   "display_name": "Python 3.6.10 64-bit ('PythonData': conda)"
  },
  "language_info": {
   "codemirror_mode": {
    "name": "ipython",
    "version": 3
   },
   "file_extension": ".py",
   "mimetype": "text/x-python",
   "name": "python",
   "nbconvert_exporter": "python",
   "pygments_lexer": "ipython3",
   "version": "3.6.10"
  },
  "latex_envs": {
   "LaTeX_envs_menu_present": true,
   "autoclose": false,
   "autocomplete": true,
   "bibliofile": "biblio.bib",
   "cite_by": "apalike",
   "current_citInitial": 1,
   "eqLabelWithNumbers": true,
   "eqNumInitial": 1,
   "hotkeys": {
    "equation": "Ctrl-E",
    "itemize": "Ctrl-I"
   },
   "labels_anchors": false,
   "latex_user_defs": false,
   "report_style_numbering": false,
   "user_envs_cfg": false
  },
  "interpreter": {
   "hash": "62bb34d63c24be0a0ab897fb5f46a4d7d45009535ba030eb5ffeb658607c367a"
  }
 },
 "nbformat": 4,
 "nbformat_minor": 4
}